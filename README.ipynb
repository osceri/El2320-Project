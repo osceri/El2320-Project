{
 "cells": [
  {
   "cell_type": "code",
   "execution_count": 59,
   "metadata": {},
   "outputs": [],
   "source": [
    "import numpy as np\n",
    "import matplotlib.pyplot as plt\n",
    "import yaml"
   ]
  },
  {
   "cell_type": "code",
   "execution_count": 60,
   "metadata": {},
   "outputs": [],
   "source": [
    "\"\"\" Parameters \"\"\"\n",
    "max_dist = 15\n",
    "fov_deg = 150\n",
    "fov_rad = fov_deg * np.pi / 180\n",
    "\n",
    "\"\"\" Load track \"\"\"\n",
    "track = yaml.load(open('trackdrive.yaml', 'r'), Loader=yaml.FullLoader)\n",
    "cones = track['cones']\n",
    "blue = cones['blue']\n",
    "yellow = cones['yellow']\n",
    "all_cones = np.concatenate((blue, yellow), axis=0)\n",
    "initial_pose = np.array([\n",
    "    track['initial_pose']['x'],\n",
    "    track['initial_pose']['y'],\n",
    "    track['initial_pose']['yaw'],\n",
    "])\n",
    "\n",
    "# Homogenous coordinates for colorless cones\n",
    "cones = np.zeros((len(all_cones), 3))\n",
    "cones[:, :2] = all_cones\n",
    "cones[:, 2] = 1"
   ]
  },
  {
   "cell_type": "code",
   "execution_count": 61,
   "metadata": {},
   "outputs": [],
   "source": [
    "\"\"\" Helpers \"\"\"\n",
    "_n = 1\n",
    "def to_m_frame(cones: np.ndarray((_n,3)), pose: np.ndarray((3,))) -> np.ndarray((_n,2)):\n",
    "    \"\"\" Convert cones to car frame \"\"\"\n",
    "    x, y, yaw = pose\n",
    "    return np.vstack((\n",
    "        np.linalg.norm(cones[:, :2] - pose[:2], axis=1),\n",
    "        np.arctan2(cones[:, 1] - y, cones[:, 0] - x) - yaw,\n",
    "        cones[:, 2]\n",
    "    )).T\n",
    "\n",
    "def to_g_frame(cones: np.ndarray((_n,3)), pose: np.ndarray((3,))) -> np.ndarray((_n,2)):\n",
    "    \"\"\" Convert cones to global frame \"\"\"\n",
    "    x, y, yaw = pose\n",
    "    return np.vstack((\n",
    "        cones[:, 0] * np.cos(cones[:, 1] + yaw) + x,\n",
    "        cones[:, 0] * np.sin(cones[:, 1] + yaw) + y,\n",
    "        cones[:, 2]                          \n",
    "    )).T\n",
    "\n",
    "assert np.allclose(to_g_frame(to_m_frame(cones, initial_pose), initial_pose), cones)"
   ]
  },
  {
   "cell_type": "code",
   "execution_count": 64,
   "metadata": {},
   "outputs": [
    {
     "data": {
      "text/plain": [
       "(-21.22803, 23.509629999999998, -19.287299369716802, 27.621086764052826)"
      ]
     },
     "execution_count": 64,
     "metadata": {},
     "output_type": "execute_result"
    },
    {
     "data": {
      "image/png": "[encoded data removed]",
      "text/plain": [
       "<Figure size 640x480 with 1 Axes>"
      ]
     },
     "metadata": {},
     "output_type": "display_data"
    }
   ],
   "source": [
    "\"\"\" Create visulization \"\"\"\n",
    "_n = 1\n",
    "def plot_cones(cones: np.ndarray((_n,2)), color: np.ndarray((3)) = (0.2,0.2,0.7)):\n",
    "    \"\"\" Plot cones \"\"\"\n",
    "    plt.scatter(cones[:, 0], cones[:, 1], color=color)\n",
    "\n",
    "def plot_fov(pose: np.ndarray((3,))):\n",
    "    \"\"\" Plot field of view \"\"\"\n",
    "    x = pose[0]\n",
    "    y = pose[1]\n",
    "    yaw = pose[2]\n",
    "\n",
    "    fov = np.array([\n",
    "        [ x, y ],\n",
    "        *[ [x + max_dist * np.cos(yaw + phi), y + max_dist * np.sin(yaw + phi)] for phi in np.linspace(-fov_rad/2, fov_rad/2, 60) ],\n",
    "        [ x, y ]\n",
    "    ])\n",
    "    plt.plot(fov[:, 0], fov[:, 1], color=(0.7,0.2,0.2))\n",
    "\n",
    "def plot_car(pose: np.ndarray((3,))):\n",
    "    \"\"\" Plot a car \"\"\"\n",
    "    x, y, yaw = pose\n",
    "    car = np.array([\n",
    "        [ -1.1, -0.6],\n",
    "        [ 1.1, -0.6],\n",
    "        [ 1.1, 0.6],\n",
    "        [ -1.1, 0.6],\n",
    "        [ -1.1, -0.6],\n",
    "    ])\n",
    "    R = np.array([\n",
    "        [ np.cos(yaw), -np.sin(yaw) ],\n",
    "        [ np.sin(yaw), np.cos(yaw) ],\n",
    "    ])\n",
    "    car = car @ R + np.array([x, y])\n",
    "\n",
    "    plt.plot(car[:, 0], car[:, 1], color=(0.2,0.2,0.2))\n",
    "\n",
    "def get_visible_cones(cones: np.ndarray((_n,3)), pose: np.ndarray((3,))) -> np.ndarray((_n,2)):\n",
    "    \"\"\" Get visible cones in car frame \"\"\"\n",
    "    cones = to_m_frame(cones, pose)\n",
    "    cones = cones[(0 < cones[:, 0])*(cones[:, 0] < max_dist)*(abs(cones[:, 1]) < fov_rad/2)]\n",
    "    cones = to_g_frame(cones, pose)\n",
    "    return cones\n",
    "\n",
    "plot_cones(all_cones)\n",
    "plot_cones(get_visible_cones(cones, initial_pose), color=(0.2,0.7,0.2))\n",
    "plot_fov(initial_pose)\n",
    "plot_car(initial_pose)\n",
    "plt.axis('equal')\n",
    "plt.axis('off')"
   ]
  }
 ],
 "metadata": {
  "kernelspec": {
   "display_name": "Python 3",
   "language": "python",
   "name": "python3"
  },
  "language_info": {
   "codemirror_mode": {
    "name": "ipython",
    "version": 3
   },
   "file_extension": ".py",
   "mimetype": "text/x-python",
   "name": "python",
   "nbconvert_exporter": "python",
   "pygments_lexer": "ipython3",
   "version": "3.10.12"
  }
 },
 "nbformat": 4,
 "nbformat_minor": 2
}
